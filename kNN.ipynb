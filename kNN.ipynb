{
  "nbformat": 4,
  "nbformat_minor": 0,
  "metadata": {
    "colab": {
      "provenance": []
    },
    "kernelspec": {
      "name": "python3",
      "display_name": "Python 3"
    },
    "language_info": {
      "name": "python"
    }
  },
  "cells": [
    {
      "cell_type": "code",
      "execution_count": 9,
      "metadata": {
        "colab": {
          "base_uri": "https://localhost:8080/"
        },
        "id": "5ALxb8EZW0Gk",
        "outputId": "9b7766ce-7c49-4878-c476-eef3afea3204"
      },
      "outputs": [
        {
          "output_type": "stream",
          "name": "stdout",
          "text": [
            "Predicted labels: ['Iris-setosa', 'Iris-virginica', 'Iris-versicolor', 'Iris-setosa', 'Iris-virginica', 'Iris-setosa', 'Iris-setosa', 'Iris-setosa', 'Iris-virginica', 'Iris-virginica', 'Iris-versicolor']\n",
            "Actual labels:    ['Iris-setosa' 'Iris-virginica' 'Iris-versicolor' 'Iris-setosa'\n",
            " 'Iris-virginica' 'Iris-setosa' 'Iris-setosa' 'Iris-setosa'\n",
            " 'Iris-virginica' 'Iris-virginica' 'Iris-versicolor']\n",
            "\n",
            "Classification Report:\n",
            "                  precision    recall  f1-score   support\n",
            "\n",
            "    Iris-setosa       1.00      1.00      1.00         5\n",
            "Iris-versicolor       1.00      1.00      1.00         2\n",
            " Iris-virginica       1.00      1.00      1.00         4\n",
            "\n",
            "       accuracy                           1.00        11\n",
            "      macro avg       1.00      1.00      1.00        11\n",
            "   weighted avg       1.00      1.00      1.00        11\n",
            "\n",
            "\n",
            "Accuracy of the classifier is: 1.0\n"
          ]
        }
      ],
      "source": [
        "import numpy as np\n",
        "import pandas as pd\n",
        "import random\n",
        "from sklearn import metrics\n",
        "\n",
        "def train_test_split(X, y, test_size=0.1):\n",
        "    data = list(zip(X, y))\n",
        "    random.shuffle(data)\n",
        "    split_index = int(len(data) * (1 - test_size))\n",
        "    train_data = data[:split_index]\n",
        "    test_data = data[split_index:]\n",
        "    X_train, y_train = zip(*train_data)\n",
        "    X_test, y_test = zip(*test_data)\n",
        "    return np.array(X_train), np.array(X_test), np.array(y_train), np.array(y_test)\n",
        "\n",
        "names = ['sepal-length', 'sepal-width', 'petal-length', 'petal-width', 'Class']\n",
        "\n",
        "# Read dataset to pandas dataframe\n",
        "dataset = pd.read_csv(r\"iris.csv\", names=names)\n",
        "X = dataset.iloc[:, :-1].values\n",
        "y = dataset.iloc[:, -1].values\n",
        "\n",
        "# Manual train-test split\n",
        "X_train, X_test, y_train, y_test = train_test_split(X, y, test_size=0.1)\n",
        "\n",
        "def calculate_distance(x1, x2):\n",
        "    return np.sqrt(np.sum((x1 - x2) ** 2))\n",
        "\n",
        "def knn_predict(X_train, y_train, x_test, k):\n",
        "    distances = []\n",
        "    for i in range(len(X_train)):\n",
        "        distance = calculate_distance(X_train[i], x_test)\n",
        "        distances.append((distance, y_train[i]))\n",
        "    distances.sort()\n",
        "    neighbors = distances[:k]\n",
        "    counts = {}\n",
        "    for neighbor in neighbors:\n",
        "        label = neighbor[1]\n",
        "        counts[label] = counts.get(label, 0) + 1\n",
        "    sorted_counts = sorted(counts.items(), key=lambda x: x[1], reverse=True)\n",
        "    return sorted_counts[0][0]\n",
        "\n",
        "y_pred = []\n",
        "k = 5\n",
        "for i in range(len(X_test)):\n",
        "    label = knn_predict(X_train, y_train, X_test[i], k)\n",
        "    y_pred.append(label)\n",
        "\n",
        "accuracy = sum(y_pred == y_test) / len(y_test)\n",
        "\n",
        "print(\"Predicted labels:\", y_pred)\n",
        "print(\"Actual labels:   \", y_test)\n",
        "print(\"\\nClassification Report:\\n\",metrics.classification_report(y_test, y_pred))\n",
        "print(\"\\nAccuracy of the classifier is:\", accuracy)"
      ]
    }
  ]
}